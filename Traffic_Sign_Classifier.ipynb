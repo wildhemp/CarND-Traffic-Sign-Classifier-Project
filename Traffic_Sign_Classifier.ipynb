{
 "cells": [
  {
   "cell_type": "markdown",
   "metadata": {},
   "source": [
    "# Self-Driving Car Engineer Nanodegree\n",
    "\n",
    "## Deep Learning\n",
    "\n",
    "## Project: Build a Traffic Sign Recognition Classifier\n",
    "\n",
    "In this notebook, a template is provided for you to implement your functionality in stages, which is required to successfully complete this project. If additional code is required that cannot be included in the notebook, be sure that the Python code is successfully imported and included in your submission if necessary. \n",
    "\n",
    "> **Note**: Once you have completed all of the code implementations, you need to finalize your work by exporting the iPython Notebook as an HTML document. Before exporting the notebook to html, all of the code cells need to have been run so that reviewers can see the final implementation and output. You can then export the notebook by using the menu above and navigating to  \\n\",\n",
    "    \"**File -> Download as -> HTML (.html)**. Include the finished document along with this notebook as your submission. \n",
    "\n",
    "In addition to implementing code, there is a writeup to complete. The writeup should be completed in a separate file, which can be either a markdown file or a pdf document. There is a [write up template](https://github.com/udacity/CarND-Traffic-Sign-Classifier-Project/blob/master/writeup_template.md) that can be used to guide the writing process. Completing the code template and writeup template will cover all of the [rubric points](https://review.udacity.com/#!/rubrics/481/view) for this project.\n",
    "\n",
    "The [rubric](https://review.udacity.com/#!/rubrics/481/view) contains \"Stand Out Suggestions\" for enhancing the project beyond the minimum requirements. The stand out suggestions are optional. If you decide to pursue the \"stand out suggestions\", you can include the code in this Ipython notebook and also discuss the results in the writeup file.\n",
    "\n",
    "\n",
    ">**Note:** Code and Markdown cells can be executed using the **Shift + Enter** keyboard shortcut. In addition, Markdown cells can be edited by typically double-clicking the cell to enter edit mode."
   ]
  },
  {
   "cell_type": "markdown",
   "metadata": {},
   "source": [
    "---\n",
    "## Step 0: Load The Data"
   ]
  },
  {
   "cell_type": "code",
   "execution_count": 1,
   "metadata": {
    "collapsed": true
   },
   "outputs": [],
   "source": [
    "# Load pickled data\n",
    "import pickle\n",
    "\n",
    "# TODO: Fill this in based on where you saved the training and testing data\n",
    "\n",
    "training_file = 'data/train.p'\n",
    "validation_file = 'data/valid.p'\n",
    "testing_file = 'data/test.p'\n",
    "\n",
    "with open(training_file, mode='rb') as f:\n",
    "    train = pickle.load(f)\n",
    "with open(validation_file, mode='rb') as f:\n",
    "    valid = pickle.load(f)\n",
    "with open(testing_file, mode='rb') as f:\n",
    "    test = pickle.load(f)\n",
    "    \n",
    "X_train_orig, y_train_orig = train['features'], train['labels']\n",
    "X_valid_orig, y_valid_orig = valid['features'], valid['labels']\n",
    "X_test_orig, y_test_orig = test['features'], test['labels']"
   ]
  },
  {
   "cell_type": "markdown",
   "metadata": {},
   "source": [
    "---\n",
    "\n",
    "## Step 1: Dataset Summary & Exploration\n",
    "\n",
    "The pickled data is a dictionary with 4 key/value pairs:\n",
    "\n",
    "- `'features'` is a 4D array containing raw pixel data of the traffic sign images, (num examples, width, height, channels).\n",
    "- `'labels'` is a 1D array containing the label/class id of the traffic sign. The file `signnames.csv` contains id -> name mappings for each id.\n",
    "- `'sizes'` is a list containing tuples, (width, height) representing the original width and height the image.\n",
    "- `'coords'` is a list containing tuples, (x1, y1, x2, y2) representing coordinates of a bounding box around the sign in the image. **THESE COORDINATES ASSUME THE ORIGINAL IMAGE. THE PICKLED DATA CONTAINS RESIZED VERSIONS (32 by 32) OF THESE IMAGES**\n",
    "\n",
    "Complete the basic data summary below. Use python, numpy and/or pandas methods to calculate the data summary rather than hard coding the results. For example, the [pandas shape method](http://pandas.pydata.org/pandas-docs/stable/generated/pandas.DataFrame.shape.html) might be useful for calculating some of the summary results. "
   ]
  },
  {
   "cell_type": "markdown",
   "metadata": {},
   "source": [
    "### Provide a Basic Summary of the Data Set Using Python, Numpy and/or Pandas"
   ]
  },
  {
   "cell_type": "code",
   "execution_count": 2,
   "metadata": {},
   "outputs": [
    {
     "name": "stdout",
     "output_type": "stream",
     "text": [
      "Number of training examples = 34799\n",
      "Number of validation examples = 4410\n",
      "Number of testing examples = 12630\n",
      "Image data shape = (32, 32, 3)\n",
      "Number of classes = 43\n"
     ]
    }
   ],
   "source": [
    "### Replace each question mark with the appropriate value. \n",
    "### Use python, pandas or numpy methods rather than hard coding the results\n",
    "import numpy as np\n",
    "\n",
    "# TODO: Number of training examples\n",
    "n_train = len(X_train_orig)\n",
    "\n",
    "# TODO: Number of validation examples\n",
    "n_validation = len(X_valid_orig)\n",
    "\n",
    "# TODO: Number of testing examples.\n",
    "n_test = len(X_test_orig)\n",
    "\n",
    "# TODO: What's the shape of an traffic sign image?\n",
    "image_shape = X_train_orig[0].shape\n",
    "\n",
    "# TODO: How many unique classes/labels there are in the dataset.\n",
    "n_classes = len(np.unique(y_train_orig))\n",
    "\n",
    "print(\"Number of training examples =\", n_train)\n",
    "print(\"Number of validation examples =\", n_validation)\n",
    "print(\"Number of testing examples =\", n_test)\n",
    "print(\"Image data shape =\", image_shape)\n",
    "print(\"Number of classes =\", n_classes)"
   ]
  },
  {
   "cell_type": "markdown",
   "metadata": {},
   "source": [
    "### Include an exploratory visualization of the dataset"
   ]
  },
  {
   "cell_type": "markdown",
   "metadata": {},
   "source": [
    "Visualize the German Traffic Signs Dataset using the pickled file(s). This is open ended, suggestions include: plotting traffic sign images, plotting the count of each sign, etc. \n",
    "\n",
    "The [Matplotlib](http://matplotlib.org/) [examples](http://matplotlib.org/examples/index.html) and [gallery](http://matplotlib.org/gallery.html) pages are a great resource for doing visualizations in Python.\n",
    "\n",
    "**NOTE:** It's recommended you start with something simple first. If you wish to do more, come back to it after you've completed the rest of the sections. It can be interesting to look at the distribution of classes in the training, validation and test set. Is the distribution the same? Are there more examples of some classes than others?"
   ]
  },
  {
   "cell_type": "code",
   "execution_count": 3,
   "metadata": {},
   "outputs": [
    {
     "name": "stdout",
     "output_type": "stream",
     "text": [
      "[ 180 1980 2010 1260 1770 1650  360 1290 1260 1320 1800 1170 1890 1920  690\n",
      "  540  360  990 1080  180  300  270  330  450  240 1350  540  210  480  240\n",
      "  390  690  210  599  360 1080  330  180 1860  270  300  210  210]\n",
      "[ 0  1  2  3  4  5  6  7  8  9 10 11 12 13 14 15 16 17 18 19 20 21 22 23 24\n",
      " 25 26 27 28 29 30 31 32 33 34 35 36 37 38 39 40 41 42 43]\n"
     ]
    },
    {
     "data": {
      "image/png": "[encoded data removed]",
      "text/plain": [
       "<matplotlib.figure.Figure at 0x7f18b061a320>"
      ]
     },
     "metadata": {},
     "output_type": "display_data"
    },
    {
     "data": {
      "image/png": "[encoded data removed]",
      "text/plain": [
       "<matplotlib.figure.Figure at 0x7f18b04d2e48>"
      ]
     },
     "metadata": {},
     "output_type": "display_data"
    },
    {
     "data": {
      "text/plain": [
       "<matplotlib.image.AxesImage at 0x7f18b03be278>"
      ]
     },
     "execution_count": 3,
     "metadata": {},
     "output_type": "execute_result"
    },
    {
     "data": {
      "image/png": "[encoded data removed]",
      "text/plain": [
       "<matplotlib.figure.Figure at 0x7f18b03d9c50>"
      ]
     },
     "metadata": {},
     "output_type": "display_data"
    }
   ],
   "source": [
    "### Data exploration visualization code goes here.\n",
    "### Feel free to use as many code cells as needed.\n",
    "import random\n",
    "import matplotlib.pyplot as plt\n",
    "# Visualizations will be shown in the notebook.\n",
    "%matplotlib inline\n",
    "\n",
    "histogram, bin_edges = np.histogram(y_train_orig, bins = range(n_classes + 1))\n",
    "print(histogram)\n",
    "print(bin_edges)\n",
    "\n",
    "plt.figure()\n",
    "plt.hist(y_train_orig, bins=range(n_classes + 1))\n",
    "plt.show()\n",
    "\n",
    "plt.figure()\n",
    "plt.hist(y_valid_orig, bins=range(n_classes + 1))\n",
    "plt.show()\n",
    "\n",
    "ex_index = random.randint(0, len(X_train_orig))\n",
    "image = X_train_orig[ex_index]\n",
    "\n",
    "plt.figure()\n",
    "plt.imshow(image)"
   ]
  },
  {
   "cell_type": "markdown",
   "metadata": {},
   "source": [
    "----\n",
    "\n",
    "## Step 2: Design and Test a Model Architecture\n",
    "\n",
    "Design and implement a deep learning model that learns to recognize traffic signs. Train and test your model on the [German Traffic Sign Dataset](http://benchmark.ini.rub.de/?section=gtsrb&subsection=dataset).\n",
    "\n",
    "The LeNet-5 implementation shown in the [classroom](https://classroom.udacity.com/nanodegrees/nd013/parts/fbf77062-5703-404e-b60c-95b78b2f3f9e/modules/6df7ae49-c61c-4bb2-a23e-6527e69209ec/lessons/601ae704-1035-4287-8b11-e2c2716217ad/concepts/d4aca031-508f-4e0b-b493-e7b706120f81) at the end of the CNN lesson is a solid starting point. You'll have to change the number of classes and possibly the preprocessing, but aside from that it's plug and play! \n",
    "\n",
    "With the LeNet-5 solution from the lecture, you should expect a validation set accuracy of about 0.89. To meet specifications, the validation set accuracy will need to be at least 0.93. It is possible to get an even higher accuracy, but 0.93 is the minimum for a successful project submission. \n",
    "\n",
    "There are various aspects to consider when thinking about this problem:\n",
    "\n",
    "- Neural network architecture (is the network over or underfitting?)\n",
    "- Play around preprocessing techniques (normalization, rgb to grayscale, etc)\n",
    "- Number of examples per label (some have more than others).\n",
    "- Generate fake data.\n",
    "\n",
    "Here is an example of a [published baseline model on this problem](http://yann.lecun.com/exdb/publis/pdf/sermanet-ijcnn-11.pdf). It's not required to be familiar with the approach used in the paper but, it's good practice to try to read papers like these."
   ]
  },
  {
   "cell_type": "markdown",
   "metadata": {},
   "source": [
    "### Pre-process the Data Set (normalization, grayscale, etc.)"
   ]
  },
  {
   "cell_type": "markdown",
   "metadata": {},
   "source": [
    "Minimally, the image data should be normalized so that the data has mean zero and equal variance. For image data, `(pixel - 128)/ 128` is a quick way to approximately normalize the data and can be used in this project. \n",
    "\n",
    "Other pre-processing steps are optional. You can try different techniques to see if it improves performance. \n",
    "\n",
    "Use the code cell (or multiple code cells, if necessary) to implement the first step of your project."
   ]
  },
  {
   "cell_type": "code",
   "execution_count": 37,
   "metadata": {},
   "outputs": [
    {
     "data": {
      "text/plain": [
       "(<matplotlib.axes._subplots.AxesSubplot at 0x7f1892d68390>,\n",
       " <matplotlib.image.AxesImage at 0x7f1892cf70b8>)"
      ]
     },
     "execution_count": 37,
     "metadata": {},
     "output_type": "execute_result"
    },
    {
     "data": {
      "image/png": "[encoded data removed]",
      "text/plain": [
       "<matplotlib.figure.Figure at 0x7f18939614a8>"
      ]
     },
     "metadata": {},
     "output_type": "display_data"
    }
   ],
   "source": [
    "import math\n",
    "import cv2\n",
    "\n",
    "def generate_fake(image, translate=False, rotate=False, shear=False, scale=False, brightness=False):\n",
    "    oh, ow = image.shape[:2]\n",
    "    if translate:\n",
    "        M = np.float32(([1, 0, np.random.uniform(-2., 2.)], [0, 1, np.random.uniform(-2., 2.)]))\n",
    "        image = cv2.warpAffine(image, M, (ow, oh))\n",
    "\n",
    "    if rotate:\n",
    "        M = cv2.getRotationMatrix2D((ow / 2, oh / 2),np.random.uniform(-10., 10.), 1)\n",
    "        image = cv2.warpAffine(image, M, (ow, oh))\n",
    "        \n",
    "    if shear:\n",
    "        pts1 = np.float32([[5, 5],[20, 5],[5, 20]])\n",
    "        pt1 = np.random.uniform(0., 10.)\n",
    "        pt2 = np.random.uniform(18., 22.)\n",
    "        pts2 = np.float32([[pt1, 5],[pt2, pt1],[5, pt2]])\n",
    "        M = cv2.getAffineTransform(pts1, pts2)\n",
    "        image = cv2.warpAffine(image, M, (ow, oh))\n",
    "    \n",
    "    if scale:\n",
    "        scale = np.random.uniform(.9, 1.1)\n",
    "        image = cv2.resize(image, None, fx=scale, fy=scale, interpolation = cv2.INTER_CUBIC)\n",
    "    \n",
    "    if brightness:\n",
    "        image = cv2.cvtColor(image, cv2.COLOR_RGB2HSV)\n",
    "        image = np.array(image, dtype = np.float32)\n",
    "        image[:,:,2] = image[:,:,2] * np.random.uniform(.5, 1.5)\n",
    "        image[:,:,2][image[:,:,2] > 255] = 255\n",
    "        image = np.array(image, dtype = np.uint8)\n",
    "        image = cv2.cvtColor(image, cv2.COLOR_HSV2RGB)\n",
    "\n",
    "        \n",
    "    nh, nw = image.shape[:2]\n",
    "    \n",
    "    dest = np.zeros((ow, oh, 3), np.uint8)\n",
    "    dest_y = math.ceil(max(0, oh - nh) / 2)\n",
    "    dest_x = math.ceil(max(0, ow - nw) / 2)\n",
    "    dest_ye = min(oh, dest_y + nh)\n",
    "    dest_xe = min(ow, dest_x + nw)\n",
    "    img_y = math.ceil(max(0, nh - oh) / 2)\n",
    "    img_x = math.ceil(max(0, nw - ow) / 2)\n",
    "    img_ye = min(nh, img_y + oh)\n",
    "    img_xe = min(nw, img_x + ow)\n",
    "    \n",
    "    dest[dest_y:dest_ye, dest_x:dest_xe] = image[img_y:img_ye, img_x:img_xe]\n",
    "    \n",
    "    return dest\n",
    "\n",
    "plt.figure(figsize=(12, 2))\n",
    "plt.subplot(161), plt.imshow(X_train_orig[3000])\n",
    "plt.subplot(162), plt.imshow(generate_fake(X_train_orig[3000], translate=True))\n",
    "plt.subplot(163), plt.imshow(generate_fake(X_train_orig[3000], rotate=True))\n",
    "plt.subplot(164), plt.imshow(generate_fake(X_train_orig[3000], shear=True))\n",
    "plt.subplot(165), plt.imshow(generate_fake(X_train_orig[3000], scale=True))\n",
    "plt.subplot(166), plt.imshow(generate_fake(X_train_orig[3000], brightness=True))\n"
   ]
  },
  {
   "cell_type": "code",
   "execution_count": 38,
   "metadata": {},
   "outputs": [],
   "source": [
    "def augment(X, y):\n",
    "    x_result = np.copy(X)\n",
    "    y_result = np.tile(y, 6)\n",
    "\n",
    "    tr_sc = np.array([generate_fake(image, translate=True, scale=True) for _, image in enumerate(X)])\n",
    "    ro_sc = np.array([generate_fake(image, rotate=True, scale=True) for _, image in enumerate(X)])\n",
    "    tr_sh = np.array([generate_fake(image, translate=True, shear=True) for _, image in enumerate(X)])\n",
    "    br = np.array([generate_fake(image, brightness=True) for _, image in enumerate(X)])\n",
    "    all_in = np.array([generate_fake(image, translate=True, scale=True, rotate=True, shear=True, brightness=True) \n",
    "                       for _, image in enumerate(X)])\n",
    "\n",
    "    x_result = np.concatenate((x_result, tr_sc, ro_sc, tr_sh, br, all_in))\n",
    "        \n",
    "    return x_result, y_result\n"
   ]
  },
  {
   "cell_type": "code",
   "execution_count": 39,
   "metadata": {},
   "outputs": [
    {
     "name": "stdout",
     "output_type": "stream",
     "text": [
      "(208794, 32, 32, 3) (208794,)\n"
     ]
    }
   ],
   "source": [
    "X_jittered, y_jittered = augment(X_train_orig, y_train_orig)\n",
    "print(X_jittered.shape, y_jittered.shape)"
   ]
  },
  {
   "cell_type": "code",
   "execution_count": 40,
   "metadata": {},
   "outputs": [],
   "source": [
    "### Preprocess the data here. It is required to normalize the data. Other preprocessing steps could include \n",
    "### converting to grayscale, etc.\n",
    "### Feel free to use as many code cells as needed.\n",
    "\n",
    "# Based on https://stackoverflow.com/questions/43240604/python-local-normalization-in-opencv\n",
    "# Local and global normalizations\n",
    "def normalize_local(channel):\n",
    "    float_gray = channel.astype(np.float32) / 255.0\n",
    "\n",
    "    blur = cv2.GaussianBlur(float_gray, (0, 0), sigmaX=2, sigmaY=2)\n",
    "    num = float_gray - blur\n",
    "\n",
    "    blur = cv2.GaussianBlur(num*num, (0, 0), sigmaX=20, sigmaY=20)\n",
    "    den = cv2.pow(blur, 0.5)\n",
    "    \n",
    "    # Adding .00001 as quick and dirty to eliminate division by zero issues.\n",
    "    channel = num / (den + .00001)\n",
    "\n",
    "    cv2.normalize(channel, dst=channel, alpha=-1.0, beta=1.0, norm_type=cv2.NORM_MINMAX)\n",
    "    return channel\n",
    "\n",
    "def normalize(img):\n",
    "    img_yuv = cv2.cvtColor(img, cv2.COLOR_RGB2YUV)\n",
    "    y, u, v = cv2.split(img_yuv)\n",
    "    y = normalize_local(y)\n",
    "    u = normalize_local(u)\n",
    "    v = (v - 128.) / 128.\n",
    "    return np.dstack((y, u, v))\n",
    "\n",
    "def pre_process(x):\n",
    "    return np.array([normalize(image) for _, image in enumerate(x)])\n"
   ]
  },
  {
   "cell_type": "code",
   "execution_count": 41,
   "metadata": {},
   "outputs": [
    {
     "name": "stdout",
     "output_type": "stream",
     "text": [
      "(208794, 32, 32, 3) (208794,)\n"
     ]
    }
   ],
   "source": [
    "X_train = pre_process(X_jittered)\n",
    "X_valid = pre_process(X_valid_orig)\n",
    "\n",
    "y_train = y_jittered\n",
    "y_valid = y_valid_orig\n",
    "\n",
    "print(X_train.shape, y_train.shape)\n"
   ]
  },
  {
   "cell_type": "code",
   "execution_count": 42,
   "metadata": {},
   "outputs": [
    {
     "data": {
      "text/plain": [
       "<matplotlib.image.AxesImage at 0x7f1892b302e8>"
      ]
     },
     "execution_count": 42,
     "metadata": {},
     "output_type": "execute_result"
    },
    {
     "data": {
      "image/png": "[encoded data removed]",
      "text/plain": [
       "<matplotlib.figure.Figure at 0x7f18b01de470>"
      ]
     },
     "metadata": {},
     "output_type": "display_data"
    },
    {
     "data": {
      "image/png": "[encoded data removed]",
      "text/plain": [
       "<matplotlib.figure.Figure at 0x7f1892b94ba8>"
      ]
     },
     "metadata": {},
     "output_type": "display_data"
    }
   ],
   "source": [
    "ori_img_yuv = cv2.cvtColor(X_train_orig[ex_index], cv2.COLOR_RGB2YUV)\n",
    "\n",
    "plt.figure()\n",
    "plt.subplot(131)\n",
    "plt.imshow(ori_img_yuv[:,:,0], cmap='gray')\n",
    "plt.subplot(132)\n",
    "plt.imshow(ori_img_yuv[:,:,1], cmap='gray')\n",
    "plt.subplot(133)\n",
    "plt.imshow(ori_img_yuv[:,:,2], cmap='gray')\n",
    "\n",
    "image = X_train[ex_index]\n",
    "\n",
    "plt.figure()\n",
    "plt.subplot(131)\n",
    "plt.imshow(image[:,:,0], cmap='gray')\n",
    "plt.subplot(132)\n",
    "plt.imshow(image[:,:,1], cmap='gray')\n",
    "plt.subplot(133)\n",
    "plt.imshow(image[:,:,2], cmap='gray')\n"
   ]
  },
  {
   "cell_type": "markdown",
   "metadata": {},
   "source": [
    "### Model Architecture"
   ]
  },
  {
   "cell_type": "code",
   "execution_count": 43,
   "metadata": {
    "collapsed": true
   },
   "outputs": [],
   "source": [
    "### Define your architecture here.\n",
    "### Feel free to use as many code cells as needed.\n",
    "import tensorflow as tf\n",
    "from tensorflow.contrib.layers import flatten\n",
    "\n",
    "# Mostly based on http://yann.lecun.com/exdb/publis/pdf/sermanet-ijcnn-11.pdf\n",
    "def TrafficNet(x, keep_prob_conv, keep_prob_fc):    \n",
    "    # Arguments used for tf.truncated_normal, randomly defines variables for the weights and biases for each layer\n",
    "    mu = 0\n",
    "    sigma = 0.1\n",
    "    \n",
    "    # Layer 1: Convolutional. Input = 32x32x1. Output = 28x28x108.\n",
    "    # Setting up convolutions for the Y, U, V channels separately for tighter control...\n",
    "    conv1_w1 = tf.Variable(tf.truncated_normal((5, 5, 1, 100), mean=mu, stddev=sigma))\n",
    "    conv1_w2 = tf.Variable(tf.truncated_normal((5, 5, 1, 4), mean=mu, stddev=sigma))\n",
    "    conv1_w3 = tf.Variable(tf.truncated_normal((5, 5, 1, 4), mean=mu, stddev=sigma))\n",
    "    conv1_x1 = tf.nn.conv2d(x[:,:,:,:1], conv1_w1, [1, 1, 1, 1], padding='VALID')\n",
    "    conv1_x2 = tf.nn.conv2d(x[:,:,:,1:2], conv1_w2, [1, 1, 1, 1], padding='VALID')\n",
    "    conv1_x3 = tf.nn.conv2d(x[:,:,:,-1:], conv1_w3, [1, 1, 1, 1], padding='VALID')\n",
    "    # then concating them to produce one convolutional layer\n",
    "    conv1_x = tf.concat((conv1_x1, conv1_x2, conv1_x3), 3)\n",
    "    print(conv1_x.get_shape().as_list())\n",
    "    conv1_b = tf.Variable(tf.zeros(108))\n",
    "    conv1_x = tf.nn.bias_add(conv1_x, conv1_b)\n",
    "\n",
    "    conv1_x = tf.nn.relu(conv1_x)\n",
    "    print(conv1_x.get_shape().as_list())\n",
    "\n",
    "    # Pooling. Input = 28x28x108. Output = 14x14x108.\n",
    "    conv1_x = tf.nn.max_pool(conv1_x, ksize=[1, 2, 2, 1], strides=[1, 2, 2, 1], padding='SAME')\n",
    "    print(conv1_x.get_shape().as_list())\n",
    "\n",
    "    # Layer 2: Convolutional. Output = 10x10x200.\n",
    "    conv2_w = tf.Variable(tf.truncated_normal((5, 5, 108, 200), mean=mu, stddev=sigma))\n",
    "    conv2_b = tf.Variable(tf.zeros(200))\n",
    "    conv2_x = tf.nn.conv2d(conv1_x, conv2_w, [1, 1, 1, 1], padding='VALID')\n",
    "    conv2_x = tf.nn.bias_add(conv2_x, conv2_b)\n",
    "\n",
    "    conv2_x = tf.nn.relu(conv2_x)\n",
    "    print(conv2_x.get_shape().as_list())\n",
    "\n",
    "    # Pooling. Input = 10x10x200. Output = 5x5x200.\n",
    "    conv2_x = tf.nn.max_pool(conv2_x, ksize=[1, 2, 2, 1], strides=[1, 2, 2, 1], padding='SAME')\n",
    "    conv2_x = tf.nn.dropout(conv2_x, keep_prob_conv)\n",
    "    print(conv2_x.get_shape().as_list())\n",
    "\n",
    "    # Apply another pooling to the first layer, so that it's about the same size as the second \n",
    "    # layer output. Also apply dropout here as well.\n",
    "    conv1_x = tf.nn.max_pool(conv1_x, ksize=[1, 2, 2, 1], strides=[1, 2, 2, 1], padding='SAME')\n",
    "    conv1_x = tf.nn.dropout(conv1_x, keep_prob_conv)\n",
    "    # Flatten both stages and concat them to do a multi stage model. Output = 10292.\n",
    "    fc_x1 = flatten(conv1_x)\n",
    "    fc_x2 = flatten(conv2_x)\n",
    "    fc_x = tf.concat((fc_x1, fc_x2), 1)\n",
    "    print(fc_x1.get_shape().as_list())\n",
    "    print(fc_x2.get_shape().as_list())\n",
    "    print(fc_x.get_shape().as_list())\n",
    "\n",
    "    # Layer 3: Fully Connected. Input = 10292. Output = 100.\n",
    "    # Activation.\n",
    "    fc_1 = tf.contrib.layers.fully_connected(\n",
    "        fc_x, 100, weights_initializer=tf.truncated_normal_initializer(mean=mu, stddev=sigma))\n",
    "    fc_1 = tf.nn.dropout(fc_1, keep_prob_fc)\n",
    "       \n",
    "    # Layer 4: Fully Connected. Input = 100. Output = 50.\n",
    "    # Activation.\n",
    "    fc_2 = tf.contrib.layers.fully_connected(\n",
    "        fc_1, 50, weights_initializer=tf.truncated_normal_initializer(mean=mu, stddev=sigma))\n",
    "\n",
    "    # Fully Connected. Input = 50. Output = 43.\n",
    "    logits = tf.contrib.layers.fully_connected(\n",
    "        fc_2, n_classes, activation_fn=None, \n",
    "        weights_initializer=tf.truncated_normal_initializer(mean=mu, stddev=sigma))\n",
    "    \n",
    "    return logits\n"
   ]
  },
  {
   "cell_type": "code",
   "execution_count": 44,
   "metadata": {
    "collapsed": true
   },
   "outputs": [],
   "source": [
    "x = tf.placeholder(tf.float32, (None, 32, 32, 3))\n",
    "y = tf.placeholder(tf.int32, (None))\n",
    "one_hot_y = tf.one_hot(y, n_classes)\n",
    "\n",
    "keep_prob_conv = tf.placeholder(tf.float32)\n",
    "keep_prob_fc = tf.placeholder(tf.float32)\n"
   ]
  },
  {
   "cell_type": "markdown",
   "metadata": {},
   "source": [
    "### Train, Validate and Test the Model"
   ]
  },
  {
   "cell_type": "markdown",
   "metadata": {},
   "source": [
    "A validation set can be used to assess how well the model is performing. A low accuracy on the training and validation\n",
    "sets imply underfitting. A high accuracy on the training set but low accuracy on the validation set implies overfitting."
   ]
  },
  {
   "cell_type": "code",
   "execution_count": 45,
   "metadata": {
    "collapsed": true
   },
   "outputs": [],
   "source": [
    "lr = 0.001\n",
    "\n",
    "epochs = 25\n",
    "batch_size = 512\n",
    "\n",
    "dropout_conv = .7\n",
    "dropout_fc = .6"
   ]
  },
  {
   "cell_type": "code",
   "execution_count": 46,
   "metadata": {},
   "outputs": [
    {
     "name": "stdout",
     "output_type": "stream",
     "text": [
      "[None, 28, 28, 108]\n",
      "[None, 28, 28, 108]\n",
      "[None, 14, 14, 108]\n",
      "[None, 10, 10, 200]\n",
      "[None, 5, 5, 200]\n",
      "[None, 5292]\n",
      "[None, 5000]\n",
      "[None, 10292]\n"
     ]
    }
   ],
   "source": [
    "### Train your model here.\n",
    "### Calculate and report the accuracy on the training and validation set.\n",
    "### Once a final model architecture is selected, \n",
    "### the accuracy on the test set should be calculated and reported as well.\n",
    "### Feel free to use as many code cells as needed.\n",
    "\n",
    "logits = TrafficNet(x, keep_prob_conv, keep_prob_fc)\n",
    "cross_entropy = tf.nn.softmax_cross_entropy_with_logits(labels=one_hot_y, logits=logits)\n",
    "loss_operation = tf.reduce_mean(cross_entropy)\n",
    "optimizer = tf.train.AdamOptimizer(learning_rate = lr)\n",
    "training_operation = optimizer.minimize(loss_operation)"
   ]
  },
  {
   "cell_type": "code",
   "execution_count": 47,
   "metadata": {
    "collapsed": true
   },
   "outputs": [],
   "source": [
    "correct_prediction = tf.equal(tf.argmax(logits, 1), tf.argmax(one_hot_y, 1))\n",
    "accuracy_operation = tf.reduce_mean(tf.cast(correct_prediction, tf.float32))\n",
    "saver = tf.train.Saver()\n",
    "\n",
    "def evaluate(X_data, y_data):\n",
    "    num_examples = len(X_data)\n",
    "    total_accuracy = 0\n",
    "    sess = tf.get_default_session()\n",
    "    for offset in range(0, num_examples, batch_size):\n",
    "        batch_x, batch_y = X_data[offset:offset+batch_size], y_data[offset:offset+batch_size]\n",
    "        accuracy = sess.run(accuracy_operation, \n",
    "                            feed_dict={x: batch_x, y: batch_y, keep_prob_conv: 1., keep_prob_fc:1.})\n",
    "        total_accuracy += (accuracy * len(batch_x))\n",
    "    return total_accuracy / num_examples"
   ]
  },
  {
   "cell_type": "code",
   "execution_count": 48,
   "metadata": {
    "scrolled": false
   },
   "outputs": [
    {
     "name": "stdout",
     "output_type": "stream",
     "text": [
      "Training... 208794\n",
      "\n",
      "EPOCH 1/67.07 secs, Train Accuracy 0.5952, Validation Accuracy = 0.8907\n",
      "EPOCH 2/68.09 secs, Train Accuracy 0.9178, Validation Accuracy = 0.9601\n",
      "EPOCH 3/38.80 secs, Train Accuracy 0.9609, Validation Accuracy = 0.9712\n",
      "EPOCH 4/38.99 secs, Train Accuracy 0.9770, Validation Accuracy = 0.9746\n",
      "EPOCH 5/38.73 secs, Train Accuracy 0.9845, Validation Accuracy = 0.9819\n",
      "EPOCH 6/39.05 secs, Train Accuracy 0.9887, Validation Accuracy = 0.9782\n",
      "EPOCH 7/39.03 secs, Train Accuracy 0.9915, Validation Accuracy = 0.9841\n",
      "EPOCH 8/38.99 secs, Train Accuracy 0.9938, Validation Accuracy = 0.9846\n",
      "EPOCH 9/39.01 secs, Train Accuracy 0.9947, Validation Accuracy = 0.9893\n",
      "EPOCH 10/38.96 secs, Train Accuracy 0.9959, Validation Accuracy = 0.9859\n",
      "EPOCH 11/39.00 secs, Train Accuracy 0.9968, Validation Accuracy = 0.9871\n",
      "EPOCH 12/38.93 secs, Train Accuracy 0.9972, Validation Accuracy = 0.9868\n",
      "EPOCH 13/39.08 secs, Train Accuracy 0.9975, Validation Accuracy = 0.9859\n",
      "EPOCH 14/39.00 secs, Train Accuracy 0.9979, Validation Accuracy = 0.9902\n",
      "EPOCH 15/39.17 secs, Train Accuracy 0.9983, Validation Accuracy = 0.9900\n",
      "EPOCH 16/38.79 secs, Train Accuracy 0.9985, Validation Accuracy = 0.9891\n",
      "EPOCH 17/39.15 secs, Train Accuracy 0.9988, Validation Accuracy = 0.9900\n",
      "EPOCH 18/38.90 secs, Train Accuracy 0.9989, Validation Accuracy = 0.9891\n",
      "EPOCH 19/39.07 secs, Train Accuracy 0.9990, Validation Accuracy = 0.9889\n",
      "EPOCH 20/39.04 secs, Train Accuracy 0.9992, Validation Accuracy = 0.9878\n",
      "EPOCH 21/38.93 secs, Train Accuracy 0.9991, Validation Accuracy = 0.9912\n",
      "EPOCH 22/38.84 secs, Train Accuracy 0.9993, Validation Accuracy = 0.9898\n",
      "EPOCH 23/39.01 secs, Train Accuracy 0.9993, Validation Accuracy = 0.9855\n",
      "EPOCH 24/38.94 secs, Train Accuracy 0.9993, Validation Accuracy = 0.9909\n",
      "EPOCH 25/39.03 secs, Train Accuracy 0.9994, Validation Accuracy = 0.9907\n",
      "Model saved\n"
     ]
    }
   ],
   "source": [
    "import time\n",
    "import datetime\n",
    "from sklearn.utils import shuffle\n",
    "\n",
    "with tf.Session() as sess:\n",
    "    sess.run(tf.global_variables_initializer())\n",
    "    num_examples = len(X_train)\n",
    "    \n",
    "    print(\"Training... {}\".format(num_examples))\n",
    "    print()\n",
    "    for i in range(epochs):\n",
    "        start = time.time()\n",
    "        X_train, y_train = shuffle(X_train, y_train)\n",
    "        train_accuracy = 0\n",
    "        for offset in range(0, num_examples, batch_size):\n",
    "            end = offset + batch_size\n",
    "            batch_x, batch_y = X_train[offset:end], y_train[offset:end]\n",
    "            sess.run(training_operation, \n",
    "                     feed_dict={x: batch_x, y: batch_y, keep_prob_conv: dropout_conv, keep_prob_fc: dropout_fc})\n",
    "            \n",
    "            # Calculate training accuracy\n",
    "            accuracy = sess.run(accuracy_operation, \n",
    "                                feed_dict={x: batch_x, y: batch_y, keep_prob_conv: 1., keep_prob_fc: 1.})\n",
    "            train_accuracy += (accuracy * len(batch_x))\n",
    "        \n",
    "        train_accuracy /= num_examples\n",
    "        validation_accuracy = evaluate(X_valid, y_valid)\n",
    "        print(\"EPOCH {}/{:.2f} secs, Train Accuracy {:.4f}, Validation Accuracy = {:.4f}\".format(\n",
    "            i+1, time.time() - start, train_accuracy, validation_accuracy))\n",
    "        \n",
    "    saver.save(sess, './trafficnet')\n",
    "    print(\"Model saved\")"
   ]
  },
  {
   "cell_type": "code",
   "execution_count": 49,
   "metadata": {
    "collapsed": true
   },
   "outputs": [],
   "source": [
    "X_test = pre_process(X_test_orig)\n",
    "y_test = y_test_orig\n"
   ]
  },
  {
   "cell_type": "code",
   "execution_count": 50,
   "metadata": {},
   "outputs": [
    {
     "name": "stdout",
     "output_type": "stream",
     "text": [
      "INFO:tensorflow:Restoring parameters from ./trafficnet\n",
      "Validation Accuracy = 0.9907\n",
      "Test Accuracy = 0.9740\n"
     ]
    }
   ],
   "source": [
    "with tf.Session() as sess:\n",
    "    saver.restore(sess, './trafficnet')\n",
    "    validation_accuracy = evaluate(X_valid, y_valid)\n",
    "    # Print validation accuracy for sanity check\n",
    "    print(\"Validation Accuracy = {:.4f}\".format(validation_accuracy))\n",
    "    test_accuracy = evaluate(X_test, y_test)\n",
    "    print(\"Test Accuracy = {:.4f}\".format(test_accuracy))\n"
   ]
  },
  {
   "cell_type": "markdown",
   "metadata": {},
   "source": [
    "### Load and Output the Images"
   ]
  },
  {
   "cell_type": "code",
   "execution_count": 61,
   "metadata": {},
   "outputs": [
    {
     "data": {
      "image/png": "[encoded data removed]",
      "text/plain": [
       "<matplotlib.figure.Figure at 0x7f1845e032b0>"
      ]
     },
     "metadata": {},
     "output_type": "display_data"
    },
    {
     "data": {
      "image/png": "[encoded data removed]",
      "text/plain": [
       "<matplotlib.figure.Figure at 0x7f1845cfd0b8>"
      ]
     },
     "metadata": {},
     "output_type": "display_data"
    },
    {
     "data": {
      "image/png": "[encoded data removed]",
      "text/plain": [
       "<matplotlib.figure.Figure at 0x7f1845d499b0>"
      ]
     },
     "metadata": {},
     "output_type": "display_data"
    },
    {
     "data": {
      "image/png": "[encoded data removed]",
      "text/plain": [
       "<matplotlib.figure.Figure at 0x7f1845c91f98>"
      ]
     },
     "metadata": {},
     "output_type": "display_data"
    },
    {
     "data": {
      "image/png": "[encoded data removed]",
      "text/plain": [
       "<matplotlib.figure.Figure at 0x7f1845cce8d0>"
      ]
     },
     "metadata": {},
     "output_type": "display_data"
    }
   ],
   "source": [
    "### Load the images and plot them here.\n",
    "### Feel free to use as many code cells as needed.\n",
    "import os\n",
    "import matplotlib.image as mpimg\n",
    "\n",
    "sign_names = dict(np.genfromtxt('signnames.csv', delimiter=',', dtype=None, skip_header=1))\n",
    "\n",
    "images = []\n",
    "for f in sorted(os.listdir('./web_data')):\n",
    "    image = cv2.imread('./web_data/' + f)\n",
    "    image = cv2.resize(image, (32, 32), interpolation = cv2.INTER_AREA)\n",
    "    image = np.array(image)\n",
    "    image = cv2.cvtColor(image, cv2.COLOR_BGR2RGB)\n",
    "    images.append(image)\n",
    "\n",
    "labels = [23, 15, 29, 8, 17]\n",
    "X_web_orig = np.array(images)\n",
    "y_web_orig = np.array(labels)\n",
    "for i, img in enumerate(X_web_orig):\n",
    "    plt.figure(figsize=(3, 3))\n",
    "    plt.imshow(X_web_orig[i])\n",
    "    plt.title(sign_names[y_web_orig[i]])\n",
    "    \n"
   ]
  },
  {
   "cell_type": "markdown",
   "metadata": {},
   "source": [
    "### Predict the Sign Type for Each Image"
   ]
  },
  {
   "cell_type": "code",
   "execution_count": 62,
   "metadata": {},
   "outputs": [
    {
     "name": "stdout",
     "output_type": "stream",
     "text": [
      "INFO:tensorflow:Restoring parameters from ./trafficnet\n"
     ]
    },
    {
     "data": {
      "image/png": "[encoded data removed]",
      "text/plain": [
       "<matplotlib.figure.Figure at 0x7f1845b261d0>"
      ]
     },
     "metadata": {},
     "output_type": "display_data"
    },
    {
     "data": {
      "image/png": "[encoded data removed]",
      "text/plain": [
       "<matplotlib.figure.Figure at 0x7f1844aef4e0>"
      ]
     },
     "metadata": {},
     "output_type": "display_data"
    },
    {
     "data": {
      "image/png": "[encoded data removed]",
      "text/plain": [
       "<matplotlib.figure.Figure at 0x7f1844aff2b0>"
      ]
     },
     "metadata": {},
     "output_type": "display_data"
    },
    {
     "data": {
      "image/png": "[encoded data removed]",
      "text/plain": [
       "<matplotlib.figure.Figure at 0x7f1844a8bc50>"
      ]
     },
     "metadata": {},
     "output_type": "display_data"
    },
    {
     "data": {
      "image/png": "[encoded data removed]",
      "text/plain": [
       "<matplotlib.figure.Figure at 0x7f1844a9fb38>"
      ]
     },
     "metadata": {},
     "output_type": "display_data"
    }
   ],
   "source": [
    "### Run the predictions here and use the model to output the prediction for each image.\n",
    "### Make sure to pre-process the images with the same pre-processing pipeline used earlier.\n",
    "### Feel free to use as many code cells as needed.\n",
    "X_web = pre_process(X_web_orig)\n",
    "y_web = y_web_orig\n",
    "\n",
    "pred_op = tf.argmax(logits, 1)\n",
    "top5_values_op, top5_indices_op = tf.nn.top_k(tf.nn.softmax(logits), 5)\n",
    "with tf.Session() as sess:\n",
    "    saver.restore(sess, './trafficnet')\n",
    "    predicted, top5_values, top5_indices = sess.run([pred_op, top5_values_op, top5_indices_op], \n",
    "                         feed_dict={x: X_web, y:y_web, keep_prob_conv: 1., keep_prob_fc: 1.})\n",
    "    web_accuracy = evaluate(X_web, y_web)\n",
    "    \n",
    "for i, img in enumerate(X_web):\n",
    "    plt.figure(figsize=(3, 3))\n",
    "    plt.imshow(X_web_orig[i])\n",
    "    plt.title(sign_names[predicted[i]])\n",
    "    \n"
   ]
  },
  {
   "cell_type": "markdown",
   "metadata": {},
   "source": [
    "### Analyze Performance"
   ]
  },
  {
   "cell_type": "code",
   "execution_count": 63,
   "metadata": {},
   "outputs": [
    {
     "name": "stdout",
     "output_type": "stream",
     "text": [
      "Web Accuracy = 0.8000\n",
      "Test Accuracy = 0.9740\n"
     ]
    }
   ],
   "source": [
    "### Calculate the accuracy for these 5 new images. \n",
    "### For example, if the model predicted 1 out of 5 signs correctly, it's 20% accurate on these new images.\n",
    "print(\"Web Accuracy = {:.4f}\".format(web_accuracy))\n",
    "print(\"Test Accuracy = {:.4f}\".format(test_accuracy))\n"
   ]
  },
  {
   "cell_type": "markdown",
   "metadata": {},
   "source": [
    "### Output Top 5 Softmax Probabilities For Each Image Found on the Web"
   ]
  },
  {
   "cell_type": "markdown",
   "metadata": {},
   "source": [
    "For each of the new images, print out the model's softmax probabilities to show the **certainty** of the model's predictions (limit the output to the top 5 probabilities for each image). [`tf.nn.top_k`](https://www.tensorflow.org/versions/r0.12/api_docs/python/nn.html#top_k) could prove helpful here. \n",
    "\n",
    "The example below demonstrates how tf.nn.top_k can be used to find the top k predictions for each image.\n",
    "\n",
    "`tf.nn.top_k` will return the values and indices (class ids) of the top k predictions. So if k=3, for each sign, it'll return the 3 largest probabilities (out of a possible 43) and the correspoding class ids.\n",
    "\n",
    "Take this numpy array as an example. The values in the array represent predictions. The array contains softmax probabilities for five candidate images with six possible classes. `tf.nn.top_k` is used to choose the three classes with the highest probability:\n",
    "\n",
    "```\n",
    "# (5, 6) array\n",
    "a = np.array([[ 0.24879643,  0.07032244,  0.12641572,  0.34763842,  0.07893497,\n",
    "         0.12789202],\n",
    "       [ 0.28086119,  0.27569815,  0.08594638,  0.0178669 ,  0.18063401,\n",
    "         0.15899337],\n",
    "       [ 0.26076848,  0.23664738,  0.08020603,  0.07001922,  0.1134371 ,\n",
    "         0.23892179],\n",
    "       [ 0.11943333,  0.29198961,  0.02605103,  0.26234032,  0.1351348 ,\n",
    "         0.16505091],\n",
    "       [ 0.09561176,  0.34396535,  0.0643941 ,  0.16240774,  0.24206137,\n",
    "         0.09155967]])\n",
    "```\n",
    "\n",
    "Running it through `sess.run(tf.nn.top_k(tf.constant(a), k=3))` produces:\n",
    "\n",
    "```\n",
    "TopKV2(values=array([[ 0.34763842,  0.24879643,  0.12789202],\n",
    "       [ 0.28086119,  0.27569815,  0.18063401],\n",
    "       [ 0.26076848,  0.23892179,  0.23664738],\n",
    "       [ 0.29198961,  0.26234032,  0.16505091],\n",
    "       [ 0.34396535,  0.24206137,  0.16240774]]), indices=array([[3, 0, 5],\n",
    "       [0, 1, 4],\n",
    "       [0, 5, 1],\n",
    "       [1, 3, 5],\n",
    "       [1, 4, 3]], dtype=int32))\n",
    "```\n",
    "\n",
    "Looking just at the first row we get `[ 0.34763842,  0.24879643,  0.12789202]`, you can confirm these are the 3 largest probabilities in `a`. You'll also notice `[3, 0, 5]` are the corresponding indices."
   ]
  },
  {
   "cell_type": "code",
   "execution_count": 64,
   "metadata": {},
   "outputs": [
    {
     "name": "stdout",
     "output_type": "stream",
     "text": [
      "[[  6.77761853e-01   1.35421470e-01   7.80452117e-02   5.12239784e-02\n",
      "    4.33994941e-02]\n",
      " [  9.99929667e-01   3.83293700e-05   3.07627597e-05   5.27264092e-07\n",
      "    4.02569214e-07]\n",
      " [  7.25482166e-01   2.73869157e-01   5.53311897e-04   3.59711084e-05\n",
      "    3.40347433e-05]\n",
      " [  8.46545458e-01   1.53454497e-01   2.48500456e-08   3.17179083e-09\n",
      "    2.25546748e-10]\n",
      " [  1.00000000e+00   5.92002304e-13   2.05079051e-19   5.71860353e-23\n",
      "    1.44170894e-23]]\n",
      "[[23 29 10 31 25]\n",
      " [15  1 13  7  8]\n",
      " [29 28 23 30 11]\n",
      " [ 0  8  4  1  5]\n",
      " [17 14 12 10  7]]\n",
      "\n",
      "Probabilities for b'Slippery road' sign:\n",
      "  b'Slippery road': 0.6778\n",
      "  b'Bicycles crossing': 0.1354\n",
      "  b'No passing for vehicles over 3.5 metric tons': 0.0780\n",
      "  b'Wild animals crossing': 0.0512\n",
      "  b'Road work': 0.0434\n",
      "Probabilities for b'No vehicles' sign:\n",
      "  b'No vehicles': 0.9999\n",
      "  b'Speed limit (30km/h)': 0.0000\n",
      "  b'Yield': 0.0000\n",
      "  b'Speed limit (100km/h)': 0.0000\n",
      "  b'Speed limit (120km/h)': 0.0000\n",
      "Probabilities for b'Bicycles crossing' sign:\n",
      "  b'Bicycles crossing': 0.7255\n",
      "  b'Children crossing': 0.2739\n",
      "  b'Slippery road': 0.0006\n",
      "  b'Beware of ice/snow': 0.0000\n",
      "  b'Right-of-way at the next intersection': 0.0000\n",
      "Probabilities for b'Speed limit (120km/h)' sign:\n",
      "  b'Speed limit (20km/h)': 0.8465\n",
      "  b'Speed limit (120km/h)': 0.1535\n",
      "  b'Speed limit (70km/h)': 0.0000\n",
      "  b'Speed limit (30km/h)': 0.0000\n",
      "  b'Speed limit (80km/h)': 0.0000\n",
      "Probabilities for b'No entry' sign:\n",
      "  b'No entry': 1.0000\n",
      "  b'Stop': 0.0000\n",
      "  b'Priority road': 0.0000\n",
      "  b'No passing for vehicles over 3.5 metric tons': 0.0000\n",
      "  b'Speed limit (100km/h)': 0.0000\n"
     ]
    }
   ],
   "source": [
    "### Print out the top five softmax probabilities for the predictions on the German traffic sign images found on the web. \n",
    "### Feel free to use as many code cells as needed.\n",
    "print(top5_values)\n",
    "print(top5_indices)\n",
    "\n",
    "print()\n",
    "\n",
    "for i, values in enumerate(top5_values):\n",
    "    indices = top5_indices[i]\n",
    "    print('Probabilities for {} sign:'.format(sign_names[y_web[i]]))\n",
    "    for j, prob in enumerate(values):\n",
    "        index = indices[j]\n",
    "        print('  {}: {:.4f}'.format(sign_names[index], prob))\n"
   ]
  },
  {
   "cell_type": "markdown",
   "metadata": {},
   "source": [
    "### Project Writeup\n",
    "\n",
    "Once you have completed the code implementation, document your results in a project writeup using this [template](https://github.com/udacity/CarND-Traffic-Sign-Classifier-Project/blob/master/writeup_template.md) as a guide. The writeup can be in a markdown or pdf file. "
   ]
  },
  {
   "cell_type": "markdown",
   "metadata": {},
   "source": [
    "> **Note**: Once you have completed all of the code implementations and successfully answered each question above, you may finalize your work by exporting the iPython Notebook as an HTML document. You can do this by using the menu above and navigating to  \\n\",\n",
    "    \"**File -> Download as -> HTML (.html)**. Include the finished document along with this notebook as your submission."
   ]
  },
  {
   "cell_type": "markdown",
   "metadata": {},
   "source": [
    "---\n",
    "\n",
    "## Step 4 (Optional): Visualize the Neural Network's State with Test Images\n",
    "\n",
    " This Section is not required to complete but acts as an additional excersise for understaning the output of a neural network's weights. While neural networks can be a great learning device they are often referred to as a black box. We can understand what the weights of a neural network look like better by plotting their feature maps. After successfully training your neural network you can see what it's feature maps look like by plotting the output of the network's weight layers in response to a test stimuli image. From these plotted feature maps, it's possible to see what characteristics of an image the network finds interesting. For a sign, maybe the inner network feature maps react with high activation to the sign's boundary outline or to the contrast in the sign's painted symbol.\n",
    "\n",
    " Provided for you below is the function code that allows you to get the visualization output of any tensorflow weight layer you want. The inputs to the function should be a stimuli image, one used during training or a new one you provided, and then the tensorflow variable name that represents the layer's state during the training process, for instance if you wanted to see what the [LeNet lab's](https://classroom.udacity.com/nanodegrees/nd013/parts/fbf77062-5703-404e-b60c-95b78b2f3f9e/modules/6df7ae49-c61c-4bb2-a23e-6527e69209ec/lessons/601ae704-1035-4287-8b11-e2c2716217ad/concepts/d4aca031-508f-4e0b-b493-e7b706120f81) feature maps looked like for it's second convolutional layer you could enter conv2 as the tf_activation variable.\n",
    "\n",
    "For an example of what feature map outputs look like, check out NVIDIA's results in their paper [End-to-End Deep Learning for Self-Driving Cars](https://devblogs.nvidia.com/parallelforall/deep-learning-self-driving-cars/) in the section Visualization of internal CNN State. NVIDIA was able to show that their network's inner weights had high activations to road boundary lines by comparing feature maps from an image with a clear path to one without. Try experimenting with a similar test to show that your trained network's weights are looking for interesting features, whether it's looking at differences in feature maps from images with or without a sign, or even what feature maps look like in a trained network vs a completely untrained one on the same sign image.\n",
    "\n",
    "<figure>\n",
    " <img src=\"visualize_cnn.png\" width=\"380\" alt=\"Combined Image\" />\n",
    " <figcaption>\n",
    " <p></p> \n",
    " <p style=\"text-align: center;\"> Your output should look something like this (above)</p> \n",
    " </figcaption>\n",
    "</figure>\n",
    " <p></p> \n"
   ]
  },
  {
   "cell_type": "code",
   "execution_count": null,
   "metadata": {
    "collapsed": true
   },
   "outputs": [],
   "source": [
    "### Visualize your network's feature maps here.\n",
    "### Feel free to use as many code cells as needed.\n",
    "\n",
    "# image_input: the test image being fed into the network to produce the feature maps\n",
    "# tf_activation: should be a tf variable name used during your training procedure that represents the calculated state of a specific weight layer\n",
    "# activation_min/max: can be used to view the activation contrast in more detail, by default matplot sets min and max to the actual min and max values of the output\n",
    "# plt_num: used to plot out multiple different weight feature map sets on the same block, just extend the plt number for each new feature map entry\n",
    "\n",
    "def outputFeatureMap(image_input, tf_activation, activation_min=-1, activation_max=-1 ,plt_num=1):\n",
    "    # Here make sure to preprocess your image_input in a way your network expects\n",
    "    # with size, normalization, ect if needed\n",
    "    # image_input =\n",
    "    # Note: x should be the same name as your network's tensorflow data placeholder variable\n",
    "    # If you get an error tf_activation is not defined it may be having trouble accessing the variable from inside a function\n",
    "    activation = tf_activation.eval(session=sess,feed_dict={x : image_input})\n",
    "    featuremaps = activation.shape[3]\n",
    "    plt.figure(plt_num, figsize=(15,15))\n",
    "    for featuremap in range(featuremaps):\n",
    "        plt.subplot(6,8, featuremap+1) # sets the number of feature maps to show on each row and column\n",
    "        plt.title('FeatureMap ' + str(featuremap)) # displays the feature map number\n",
    "        if activation_min != -1 & activation_max != -1:\n",
    "            plt.imshow(activation[0,:,:, featuremap], interpolation=\"nearest\", vmin =activation_min, vmax=activation_max, cmap=\"gray\")\n",
    "        elif activation_max != -1:\n",
    "            plt.imshow(activation[0,:,:, featuremap], interpolation=\"nearest\", vmax=activation_max, cmap=\"gray\")\n",
    "        elif activation_min !=-1:\n",
    "            plt.imshow(activation[0,:,:, featuremap], interpolation=\"nearest\", vmin=activation_min, cmap=\"gray\")\n",
    "        else:\n",
    "            plt.imshow(activation[0,:,:, featuremap], interpolation=\"nearest\", cmap=\"gray\")"
   ]
  }
 ],
 "metadata": {
  "anaconda-cloud": {},
  "kernelspec": {
   "display_name": "Python 3",
   "language": "python",
   "name": "python3"
  },
  "language_info": {
   "codemirror_mode": {
    "name": "ipython",
    "version": 3
   },
   "file_extension": ".py",
   "mimetype": "text/x-python",
   "name": "python",
   "nbconvert_exporter": "python",
   "pygments_lexer": "ipython3",
   "version": "3.5.2"
  },
  "widgets": {
   "state": {},
   "version": "1.1.2"
  }
 },
 "nbformat": 4,
 "nbformat_minor": 1
}
